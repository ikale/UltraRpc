{
 "cells": [
  {
   "cell_type": "code",
   "execution_count": 1,
   "metadata": {},
   "outputs": [],
   "source": [
    "try:\n",
    "    from ultrarpc import RpcServer\n",
    "except:\n",
    "    import os\n",
    "    os.sys.path.append(os.path.abspath('../..'))"
   ]
  },
  {
   "cell_type": "code",
   "execution_count": 2,
   "metadata": {},
   "outputs": [],
   "source": [
    "from ultrarpc import RpcServer"
   ]
  },
  {
   "cell_type": "markdown",
   "metadata": {},
   "source": [
    "# Create RpcServer instance"
   ]
  },
  {
   "cell_type": "code",
   "execution_count": 3,
   "metadata": {},
   "outputs": [],
   "source": [
    "rpcserver = RpcServer(host='127.0.0.1',prot=8808,usedoc=True)"
   ]
  },
  {
   "cell_type": "markdown",
   "metadata": {},
   "source": [
    "# register rpc functions"
   ]
  },
  {
   "cell_type": "code",
   "execution_count": 4,
   "metadata": {},
   "outputs": [],
   "source": [
    "@rpcserver.register_function\n",
    "def double(x:int,y:int)->int:\n",
    "    \"\"\"乘方\"\"\"\n",
    "    return x**y\n",
    "\n",
    "\n",
    "global value\n",
    "value=100\n",
    "\n",
    "@rpcserver.register_function()\n",
    "def sub(x:int)->int:\n",
    "    \"\"\"操作一个本地变量\"\"\"\n",
    "    global value\n",
    "    value=value-x\n",
    "    return value\n",
    "\n",
    "\n",
    "@rpcserver.register_function(name='hello')\n",
    "def hi(name:str)->str:\n",
    "    \"\"\"返回字符串\"\"\"\n",
    "    return f\"hello {name}.\"\n",
    "\n",
    "\n",
    "\n",
    "@rpcserver.register_function\n",
    "def get_dict()->dict:\n",
    "    \"\"\"返回一个字典\"\"\"\n",
    "    return {'name':'ikale','sex':1,'age':18}\n",
    "\n",
    "\n",
    "@rpcserver.register_function\n",
    "def get_dict2()->dict:\n",
    "    \"\"\"返回一个字典\"\"\"\n",
    "    return {'name':'ikale','sex':1,'age':18}\n",
    "\n",
    "\n",
    "# @rpcserver.register_function\n",
    "# def get_func():\n",
    "#     \"\"\"###目前还无法返回函数。测试返回一个函数\"\"\"\n",
    "#     return sub"
   ]
  },
  {
   "cell_type": "markdown",
   "metadata": {},
   "source": [
    "# run server"
   ]
  },
  {
   "cell_type": "code",
   "execution_count": null,
   "metadata": {},
   "outputs": [
    {
     "name": "stdout",
     "output_type": "stream",
     "text": [
      "start rpc server on http://127.0.0.1:8808\n"
     ]
    },
    {
     "name": "stderr",
     "output_type": "stream",
     "text": [
      "127.0.0.1 - - [30/Apr/2022 22:36:01] \"POST /RPC2 HTTP/1.1\" 200 -\n",
      "127.0.0.1 - - [30/Apr/2022 22:37:23] \"POST /RPC2 HTTP/1.1\" 200 -\n",
      "127.0.0.1 - - [30/Apr/2022 22:37:49] \"POST /RPC2 HTTP/1.1\" 200 -\n",
      "127.0.0.1 - - [30/Apr/2022 22:37:53] \"POST /RPC2 HTTP/1.1\" 200 -\n",
      "127.0.0.1 - - [30/Apr/2022 22:38:01] \"POST /RPC2 HTTP/1.1\" 200 -\n",
      "127.0.0.1 - - [30/Apr/2022 22:38:10] \"POST /RPC2 HTTP/1.1\" 200 -\n",
      "127.0.0.1 - - [30/Apr/2022 22:38:13] \"POST /RPC2 HTTP/1.1\" 200 -\n",
      "127.0.0.1 - - [30/Apr/2022 22:38:15] \"POST /RPC2 HTTP/1.1\" 200 -\n",
      "127.0.0.1 - - [30/Apr/2022 22:38:17] \"POST /RPC2 HTTP/1.1\" 200 -\n",
      "127.0.0.1 - - [30/Apr/2022 22:38:23] \"POST /RPC2 HTTP/1.1\" 200 -\n"
     ]
    }
   ],
   "source": [
    "rpcserver.run()"
   ]
  },
  {
   "cell_type": "code",
   "execution_count": null,
   "metadata": {},
   "outputs": [],
   "source": []
  }
 ],
 "metadata": {
  "kernelspec": {
   "display_name": "Python 3",
   "language": "python",
   "name": "python3"
  },
  "language_info": {
   "codemirror_mode": {
    "name": "ipython",
    "version": 3
   },
   "file_extension": ".py",
   "mimetype": "text/x-python",
   "name": "python",
   "nbconvert_exporter": "python",
   "pygments_lexer": "ipython3",
   "version": "3.7.1"
  }
 },
 "nbformat": 4,
 "nbformat_minor": 4
}
