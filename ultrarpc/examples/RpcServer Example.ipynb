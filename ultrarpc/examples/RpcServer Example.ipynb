{
 "cells": [
  {
   "cell_type": "code",
   "execution_count": null,
   "metadata": {},
   "outputs": [],
   "source": [
    "try:\n",
    "    from ultrarpc import RpcServer\n",
    "except:\n",
    "    import os\n",
    "    os.sys.path.append(os.path.abspath('../..'))"
   ]
  },
  {
   "cell_type": "code",
   "execution_count": null,
   "metadata": {},
   "outputs": [],
   "source": [
    "from ultrarpc import RpcServer"
   ]
  },
  {
   "cell_type": "markdown",
   "metadata": {},
   "source": [
    "# Create RpcServer instance"
   ]
  },
  {
   "cell_type": "code",
   "execution_count": null,
   "metadata": {},
   "outputs": [],
   "source": [
    "rpcserver = RpcServer(host='127.0.0.1',prot=8808,usedoc=True)"
   ]
  },
  {
   "cell_type": "markdown",
   "metadata": {},
   "source": [
    "# register rpc functions"
   ]
  },
  {
   "cell_type": "code",
   "execution_count": null,
   "metadata": {},
   "outputs": [],
   "source": [
    "@rpcserver.register_function\n",
    "def double(x:int,y:int)->int:\n",
    "    \"\"\"乘方\"\"\"\n",
    "    return x**y\n",
    "\n",
    "\n",
    "global value\n",
    "value=100\n",
    "\n",
    "@rpcserver.register_function()\n",
    "def sub(x:int)->int:\n",
    "    \"\"\"操作一个本地变量\"\"\"\n",
    "    global value\n",
    "    value=value-x\n",
    "    return value\n",
    "\n",
    "\n",
    "@rpcserver.register_function(name='hello')\n",
    "def hi(name:str)->str:\n",
    "    \"\"\"返回字符串\"\"\"\n",
    "    return f\"hello {name}.\"\n",
    "\n",
    "\n",
    "\n",
    "@rpcserver.register_function\n",
    "def get_dict()->dict:\n",
    "    \"\"\"返回一个字典\"\"\"\n",
    "    return {'name':'ikale','sex':1,'age':18}\n",
    "\n",
    "\n",
    "@rpcserver.register_function\n",
    "def get_dict2()->dict:\n",
    "    \"\"\"返回一个字典\"\"\"\n",
    "    return {'name':'ikale','sex':1,'age':18}\n",
    "\n",
    "\n",
    "@rpcserver.register_function\n",
    "def get_func():\n",
    "    \"\"\"返回一个已注册的函数\"\"\"\n",
    "    return sub"
   ]
  },
  {
   "cell_type": "markdown",
   "metadata": {},
   "source": [
    "# register rpc  class / instance"
   ]
  },
  {
   "cell_type": "code",
   "execution_count": null,
   "metadata": {},
   "outputs": [],
   "source": [
    "class TestClass:\n",
    "\n",
    "    def __init__(self) -> None:\n",
    "        self.data = 1\n",
    "\n",
    "    def add(self,x:int)->int:\n",
    "        \"\"\"操作类中的变量\"\"\"\n",
    "        self.data+=x\n",
    "        return self.data\n",
    "\n",
    "    def say(self,name:str)->str:\n",
    "        \"\"\"测试输出\"\"\"\n",
    "        return f'hello {name}'\n",
    "\n",
    "    \n",
    "tc = TestClass()    \n",
    "rpcserver.register_class(tc,'testclass')"
   ]
  },
  {
   "cell_type": "code",
   "execution_count": null,
   "metadata": {},
   "outputs": [],
   "source": [
    "@rpcserver.register_class('testclass2',data=50)\n",
    "class TestClass2:\n",
    "\n",
    "    def __init__(self,data) -> None:\n",
    "        self.data = data\n",
    "\n",
    "    def add(self,x:int)->int:\n",
    "        \"\"\"操作类中的变量\"\"\"\n",
    "        self.data+=x\n",
    "        return self.data\n",
    "\n",
    "    def say(self,name:str)->str:\n",
    "        \"\"\"测试输出\"\"\"\n",
    "        return f'hello {name}'"
   ]
  },
  {
   "cell_type": "markdown",
   "metadata": {},
   "source": [
    "# run server"
   ]
  },
  {
   "cell_type": "code",
   "execution_count": null,
   "metadata": {},
   "outputs": [],
   "source": [
    "rpcserver.run()"
   ]
  },
  {
   "cell_type": "markdown",
   "metadata": {},
   "source": [
    "# 测试"
   ]
  },
  {
   "cell_type": "code",
   "execution_count": null,
   "metadata": {},
   "outputs": [],
   "source": [
    "from xmlrpc.server import SimpleXMLRPCServer"
   ]
  },
  {
   "cell_type": "code",
   "execution_count": null,
   "metadata": {},
   "outputs": [],
   "source": [
    "host='127.0.0.1'\n",
    "prot=8808\n",
    "server = SimpleXMLRPCServer((host,prot),allow_none=True)"
   ]
  },
  {
   "cell_type": "code",
   "execution_count": null,
   "metadata": {},
   "outputs": [],
   "source": [
    "class SC:\n",
    "    value = 100\n",
    "    \n",
    "    @server.register_function\n",
    "    def sub(self,x:int):\n",
    "        self.value -= x\n",
    "        return self.value"
   ]
  }
 ],
 "metadata": {
  "kernelspec": {
   "display_name": "Python 3",
   "language": "python",
   "name": "python3"
  },
  "language_info": {
   "codemirror_mode": {
    "name": "ipython",
    "version": 3
   },
   "file_extension": ".py",
   "mimetype": "text/x-python",
   "name": "python",
   "nbconvert_exporter": "python",
   "pygments_lexer": "ipython3",
   "version": "3.7.1"
  }
 },
 "nbformat": 4,
 "nbformat_minor": 4
}
